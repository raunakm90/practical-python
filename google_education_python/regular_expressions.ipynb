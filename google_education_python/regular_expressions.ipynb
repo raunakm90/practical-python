{
 "metadata": {
  "language_info": {
   "codemirror_mode": {
    "name": "ipython",
    "version": 3
   },
   "file_extension": ".py",
   "mimetype": "text/x-python",
   "name": "python",
   "nbconvert_exporter": "python",
   "pygments_lexer": "ipython3",
   "version": "3.8.5-final"
  },
  "orig_nbformat": 2,
  "kernelspec": {
   "name": "python3",
   "display_name": "Python 3",
   "language": "python"
  }
 },
 "nbformat": 4,
 "nbformat_minor": 2,
 "cells": [
  {
   "source": [
    "# Regular expressions\n",
    "\n",
    "In python, `re` library is used to handle regular expressions to perform advanced string operations. \n",
    "\n",
    "Both patterns and strings to be searched can be Unicode strings (str) as well as 8-bit strings (bytes).\n",
    "\n",
    "Use Python’s raw string notation for regular expression patterns; backslashes are not handled in any special way in a string literal prefixed with `r`. So `r\"\\n\"` is a two-character string containing `\\` and `n`, while `\"\\n\"` is a one-character string containing a newline. Usually patterns will be expressed in Python code using this raw string notation.\n",
    "\n"
   ],
   "cell_type": "markdown",
   "metadata": {}
  },
  {
   "source": [
    "# Examples\n",
    "\n",
    "This section highlights some common examples of how to use regular expressions in python.\n",
    "\n",
    "A regular expression search is commonly written as \n",
    "\n",
    "                match = re.search(pat, str)"
   ],
   "cell_type": "markdown",
   "metadata": {}
  },
  {
   "cell_type": "code",
   "execution_count": 2,
   "metadata": {},
   "outputs": [],
   "source": [
    "import re\n"
   ]
  },
  {
   "source": [
    "# Reference\n",
    "\n",
    "Detailed references -\n",
    "\n",
    "1. [Regular Expression HOWTO](https://docs.python.org/3/howto/regex.html#regex-howto)\n",
    "2. "
   ],
   "cell_type": "markdown",
   "metadata": {}
  }
 ]
}