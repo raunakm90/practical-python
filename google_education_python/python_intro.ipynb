{
 "metadata": {
  "language_info": {
   "codemirror_mode": {
    "name": "ipython",
    "version": 3
   },
   "file_extension": ".py",
   "mimetype": "text/x-python",
   "name": "python",
   "nbconvert_exporter": "python",
   "pygments_lexer": "ipython3",
   "version": "3.8.5-final"
  },
  "orig_nbformat": 2,
  "kernelspec": {
   "name": "python3",
   "display_name": "Python 3.8.5 64-bit ('datascience': conda)",
   "metadata": {
    "interpreter": {
     "hash": "72921534136a8b2578a230fdf68d58fa038bd5427b407988a8313b1bf14ecc0f"
    }
   }
  }
 },
 "nbformat": 4,
 "nbformat_minor": 2,
 "cells": [
  {
   "source": [
    "# Introduction to Python\n",
    "\n",
    "Python is a dynamic, interpreted (bytecode-compiled) language. Variable names are case-sensitive. Comments begin with a `#` and extend to the end of the line.\n",
    "\n",
    "# Source code\n",
    "\n",
    "Python source code files use the \".py\" extension and are called \"modules\". These modules can be imported into some other modules or run on their own.\n",
    "\n",
    "When a Python file is run directly, the special variable \"__name__\" is set to \"__main__\". Therefore, it's common to have the boilerplate `if __name__ ==...` shown above to call a main() function when the module is run directly, but not when the module is imported by some other module."
   ],
   "cell_type": "markdown",
   "metadata": {}
  },
  {
   "cell_type": "code",
   "execution_count": 4,
   "metadata": {},
   "outputs": [
    {
     "output_type": "stream",
     "name": "stdout",
     "text": [
      "Hello there --ip=127.0.0.1\n"
     ]
    }
   ],
   "source": [
    "#!/usr/bin/env python\n",
    "\n",
    "# import modules used here -- sys is a very standard one\n",
    "import sys\n",
    "\n",
    "# Gather our code in a main() function\n",
    "def main():\n",
    "    print('Hello there', sys.argv[1])\n",
    "    # Command line args are in sys.argv[1], sys.argv[2] ...\n",
    "    # sys.argv[0] is the script name itself and can be ignored\n",
    "\n",
    "# Standard boilerplate to call the main() function to begin\n",
    "# the program.\n",
    "if __name__ == '__main__':\n",
    "    main()"
   ]
  },
  {
   "source": [
    "# Functions\n",
    "\n",
    "User-defined functions in python have the following syntax"
   ],
   "cell_type": "markdown",
   "metadata": {}
  },
  {
   "cell_type": "code",
   "execution_count": 6,
   "metadata": {},
   "outputs": [],
   "source": [
    "# Defines a \"addition\" function that takes 2 arguments\n",
    "def custom_add(a,b):\n",
    "    \"\"\"Custom Addition function\n",
    "\n",
    "    Arguments:\n",
    "        a {[numeric]} -- A number\n",
    "        b {[numeric]} -- A number\n",
    "    \n",
    "    Returns:\n",
    "        [numeric] - Addition of two numbers\n",
    "\n",
    "    \"\"\"\n",
    "    return (a+b)"
   ]
  },
  {
   "source": [
    "# Help\n",
    "\n",
    "Two ways to get help on functions in python - \n",
    "\n",
    "1. `help()` - builtin docstring for the given function\n",
    "2. `dir()` - quick list of its defined symbols or \"attributes\""
   ],
   "cell_type": "markdown",
   "metadata": {}
  },
  {
   "cell_type": "code",
   "execution_count": 7,
   "metadata": {},
   "outputs": [
    {
     "output_type": "stream",
     "name": "stdout",
     "text": [
      "Help on built-in function abs in module builtins:\n\nabs(x, /)\n    Return the absolute value of the argument.\n\n"
     ]
    }
   ],
   "source": [
    "help(abs)"
   ]
  },
  {
   "cell_type": "code",
   "execution_count": 8,
   "metadata": {},
   "outputs": [
    {
     "output_type": "execute_result",
     "data": {
      "text/plain": [
       "['__call__',\n",
       " '__class__',\n",
       " '__delattr__',\n",
       " '__dir__',\n",
       " '__doc__',\n",
       " '__eq__',\n",
       " '__format__',\n",
       " '__ge__',\n",
       " '__getattribute__',\n",
       " '__gt__',\n",
       " '__hash__',\n",
       " '__init__',\n",
       " '__init_subclass__',\n",
       " '__le__',\n",
       " '__lt__',\n",
       " '__module__',\n",
       " '__name__',\n",
       " '__ne__',\n",
       " '__new__',\n",
       " '__qualname__',\n",
       " '__reduce__',\n",
       " '__reduce_ex__',\n",
       " '__repr__',\n",
       " '__self__',\n",
       " '__setattr__',\n",
       " '__sizeof__',\n",
       " '__str__',\n",
       " '__subclasshook__',\n",
       " '__text_signature__']"
      ]
     },
     "metadata": {},
     "execution_count": 8
    }
   ],
   "source": [
    "dir(abs)"
   ]
  },
  {
   "source": [
    "# Strings\n",
    "\n",
    "Python has a built-in string class named \"str\" with many handy features. String literals can be enclosed either by double quotes or single quotes, however, single quotes is common practice. \n",
    "\n",
    "Python strings are immutable. Characters in a string can be accessed using `[]`, with zero-based indexing. "
   ],
   "cell_type": "markdown",
   "metadata": {}
  },
  {
   "cell_type": "code",
   "execution_count": 10,
   "metadata": {},
   "outputs": [
    {
     "output_type": "stream",
     "name": "stdout",
     "text": [
      "The value of pi is 3.14\nThe value of pi times 2 is 6.28\n31\n"
     ]
    }
   ],
   "source": [
    "pi = 3.14\n",
    "\n",
    "text = 'The value of pi is ' + str(pi)\n",
    "print(text)\n",
    "\n",
    "text = 'The value of pi times 2 is ' + str(pi * 2)\n",
    "print(text)\n",
    "print(len(text))"
   ]
  },
  {
   "source": [
    "A \"raw\" string literal is prefixed by an `r` and passes all the characters through without special treatment of backslashes, so `r'x\\nx'` evaluates to the length-4 string `'x\\nx'`. A `u` prefix allows you to write a unicode string literal."
   ],
   "cell_type": "markdown",
   "metadata": {}
  },
  {
   "cell_type": "code",
   "execution_count": 12,
   "metadata": {},
   "outputs": [
    {
     "output_type": "stream",
     "name": "stdout",
     "text": [
      "checking \t raw string \n literal\n"
     ]
    }
   ],
   "source": [
    "raw = 'checking \\t raw string \\n literal'\n",
    "print(raw)"
   ]
  },
  {
   "cell_type": "code",
   "execution_count": 11,
   "metadata": {},
   "outputs": [
    {
     "output_type": "stream",
     "name": "stdout",
     "text": [
      "checking \\traw string \\n literal\n"
     ]
    }
   ],
   "source": [
    "raw = r'checking \\t raw string \\n literal'\n",
    "print(raw)"
   ]
  },
  {
   "source": [
    "Multiline string can be represented as follows - "
   ],
   "cell_type": "markdown",
   "metadata": {}
  },
  {
   "cell_type": "code",
   "execution_count": 15,
   "metadata": {},
   "outputs": [
    {
     "output_type": "stream",
     "name": "stdout",
     "text": [
      "This is great!\nMultiline statements is a good way to organize\n"
     ]
    }
   ],
   "source": [
    "multi = \"\"\"This is great!\n",
    "Multiline statements is a good way to organize\"\"\"\n",
    "print(multi)"
   ]
  },
  {
   "source": [
    "## String Methods\n",
    "\n",
    "Some common string methods can be found below -\n",
    "\n",
    "1. **s.lower(), s.upper()**\n",
    "2. **s.strip()** -- returns a string with whitespace removed from the start and end\n",
    "3. **s.startswith(), s.endswith()** -- tests if the strings starts or ends with the given string\n",
    "4. **s.find()** -- searches for the given string (not a regular expression) and returns the first index where it begins or -1 if not found\n",
    "5. **s.replace('old', 'new')** -- returns a string with all occurences of 'old' have been replaced by 'new'\n",
    "6. **s.split()** -- returns a list of substrings seperated by the given delimiter\n",
    "7. **s.join()** -- joins the elements in the given list using the string as a delimiter\n",
    "\n",
    "> Reference: https://docs.python.org/3/library/stdtypes.html#string-methods\n",
    "\n"
   ],
   "cell_type": "markdown",
   "metadata": {}
  },
  {
   "cell_type": "code",
   "execution_count": null,
   "metadata": {},
   "outputs": [],
   "source": []
  }
 ]
}